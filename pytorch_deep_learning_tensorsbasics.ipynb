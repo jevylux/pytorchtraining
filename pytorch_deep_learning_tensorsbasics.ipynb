{
  "nbformat": 4,
  "nbformat_minor": 0,
  "metadata": {
    "colab": {
      "provenance": [],
      "authorship_tag": "ABX9TyMnrtZ2Qh55U80AReSqeu1U",
      "include_colab_link": true
    },
    "kernelspec": {
      "name": "python3",
      "display_name": "Python 3"
    },
    "language_info": {
      "name": "python"
    }
  },
  "cells": [
    {
      "cell_type": "markdown",
      "metadata": {
        "id": "view-in-github",
        "colab_type": "text"
      },
      "source": [
        "<a href=\"https://colab.research.google.com/github/jevylux/pytorchtraining/blob/main/pytorch_deep_learning_tensorsbasics.ipynb\" target=\"_parent\"><img src=\"https://colab.research.google.com/assets/colab-badge.svg\" alt=\"Open In Colab\"/></a>"
      ]
    },
    {
      "cell_type": "code",
      "execution_count": 1,
      "metadata": {
        "colab": {
          "base_uri": "https://localhost:8080/"
        },
        "id": "NDwiLsXa_IHi",
        "outputId": "a74d69bc-0078-4707-8fd1-c113792ba753"
      },
      "outputs": [
        {
          "output_type": "stream",
          "name": "stdout",
          "text": [
            "2.1.0+cu118\n"
          ]
        }
      ],
      "source": [
        "import torch\n",
        "import pandas as pd\n",
        "import numpy as np\n",
        "import matplotlib.pyplot as plt\n",
        "print(torch.__version__)\n"
      ]
    },
    {
      "cell_type": "markdown",
      "source": [
        "pytorch tensors are created using torch.Tensor() = https://pytorch.org/docs/stable/tensors.html\n"
      ],
      "metadata": {
        "id": "i6CREI1PCjo9"
      }
    },
    {
      "cell_type": "code",
      "source": [
        "# scalar\n",
        "scalar = torch.tensor(7)\n",
        "scalar\n"
      ],
      "metadata": {
        "colab": {
          "base_uri": "https://localhost:8080/"
        },
        "id": "ispjqkRCCvFg",
        "outputId": "dbf04ac5-ac11-4d4e-f640-ee4f1a517714"
      },
      "execution_count": 2,
      "outputs": [
        {
          "output_type": "execute_result",
          "data": {
            "text/plain": [
              "tensor(7)"
            ]
          },
          "metadata": {},
          "execution_count": 2
        }
      ]
    },
    {
      "cell_type": "code",
      "source": [
        "scalar.ndim\n",
        "# get sc alar back as python int\n",
        "scalar.item()\n"
      ],
      "metadata": {
        "colab": {
          "base_uri": "https://localhost:8080/"
        },
        "id": "u08eVdeDC6Xp",
        "outputId": "2f9b3252-2312-4ec6-928d-af50a79e944a"
      },
      "execution_count": 4,
      "outputs": [
        {
          "output_type": "execute_result",
          "data": {
            "text/plain": [
              "7"
            ]
          },
          "metadata": {},
          "execution_count": 4
        }
      ]
    },
    {
      "cell_type": "code",
      "source": [
        "# vector\n",
        "vector = torch.tensor([7, 7])\n",
        "print(vector)\n",
        "print(vector.ndim)\n",
        "\n",
        "print(vector.shape)\n"
      ],
      "metadata": {
        "colab": {
          "base_uri": "https://localhost:8080/"
        },
        "id": "yPm8mYajC91E",
        "outputId": "b23da62c-07d8-4cdc-bdea-c0ea1eac105d"
      },
      "execution_count": 7,
      "outputs": [
        {
          "output_type": "stream",
          "name": "stdout",
          "text": [
            "tensor([7, 7])\n",
            "1\n",
            "torch.Size([2])\n"
          ]
        }
      ]
    },
    {
      "cell_type": "code",
      "source": [
        "3 # matrix\n",
        "MATRIX = torch.tensor([[7, 8],\n",
        "                       [9,10]])\n",
        "print(MATRIX)\n",
        "print(MATRIX.ndim)\n",
        "print(MATRIX.shape)\n",
        "print(MATRIX[0])\n",
        "print(MATRIX[1])\n"
      ],
      "metadata": {
        "colab": {
          "base_uri": "https://localhost:8080/"
        },
        "id": "vj7GFbQqDuUI",
        "outputId": "b54726ff-5cbf-4ced-8ce1-408d02529938"
      },
      "execution_count": 11,
      "outputs": [
        {
          "output_type": "stream",
          "name": "stdout",
          "text": [
            "tensor([[ 7,  8],\n",
            "        [ 9, 10]])\n",
            "2\n",
            "torch.Size([2, 2])\n",
            "tensor([7, 8])\n",
            "tensor([ 9, 10])\n"
          ]
        }
      ]
    },
    {
      "cell_type": "code",
      "source": [
        "# tensor\n",
        "TENSOR = torch.tensor([[[1,2,3],\n",
        "                        [3,6,9],\n",
        "                        [2,4,5],\n",
        "                        [5,7,9]]])\n",
        "print(TENSOR)\n",
        "print(TENSOR.ndim)\n",
        "print(TENSOR.shape)"
      ],
      "metadata": {
        "colab": {
          "base_uri": "https://localhost:8080/"
        },
        "id": "KIpo4j35EdCd",
        "outputId": "a51336c8-032c-42d5-abf5-03024da555ab"
      },
      "execution_count": 13,
      "outputs": [
        {
          "output_type": "stream",
          "name": "stdout",
          "text": [
            "tensor([[[1, 2, 3],\n",
            "         [3, 6, 9],\n",
            "         [2, 4, 5],\n",
            "         [5, 7, 9]]])\n",
            "3\n",
            "torch.Size([1, 4, 3])\n"
          ]
        }
      ]
    },
    {
      "cell_type": "markdown",
      "source": [
        "# Random Tensors\n",
        "Random tensors are importsant becaudse the way many neural networks learn\n",
        "start with random numbers -> look at data -> update random numbers -> look at data -> update\n",
        "\n"
      ],
      "metadata": {
        "id": "O4xnkPHJGXVN"
      }
    },
    {
      "cell_type": "code",
      "source": [
        "# create a random tensor : https://pytorch.org/docs/stable/generated/torch.rand.html\n",
        "random_tensor = torch.rand(3,4)\n",
        "print(random_tensor)\n",
        "print(random_tensor.ndim)\n",
        "\n",
        "random_tensor2 = torch.rand(5,8,3)\n",
        "print(random_tensor2)\n",
        "print(random_tensor2.ndim)\n"
      ],
      "metadata": {
        "colab": {
          "base_uri": "https://localhost:8080/"
        },
        "id": "gc1fPniKHae-",
        "outputId": "1683a148-d94c-464c-c7d8-5e28d65d18b5"
      },
      "execution_count": 19,
      "outputs": [
        {
          "output_type": "stream",
          "name": "stdout",
          "text": [
            "tensor([[0.9172, 0.3265, 0.7976, 0.1264],\n",
            "        [0.8498, 0.4473, 0.6472, 0.5640],\n",
            "        [0.4987, 0.1313, 0.3196, 0.3675]])\n",
            "2\n",
            "tensor([[[0.0089, 0.0893, 0.8629],\n",
            "         [0.1396, 0.0706, 0.4271],\n",
            "         [0.0211, 0.5788, 0.2791],\n",
            "         [0.7592, 0.1096, 0.5812],\n",
            "         [0.9967, 0.7637, 0.4337],\n",
            "         [0.3709, 0.9713, 0.7851],\n",
            "         [0.5870, 0.5419, 0.0168],\n",
            "         [0.3565, 0.3315, 0.4017]],\n",
            "\n",
            "        [[0.0458, 0.3010, 0.2026],\n",
            "         [0.5620, 0.0078, 0.0858],\n",
            "         [0.4633, 0.1563, 0.9453],\n",
            "         [0.0315, 0.2063, 0.5891],\n",
            "         [0.0562, 0.5821, 0.8135],\n",
            "         [0.2389, 0.7467, 0.4214],\n",
            "         [0.6921, 0.0032, 0.8259],\n",
            "         [0.3088, 0.4989, 0.3727]],\n",
            "\n",
            "        [[0.4055, 0.3534, 0.2628],\n",
            "         [0.5079, 0.0369, 0.0257],\n",
            "         [0.6668, 0.9157, 0.1518],\n",
            "         [0.7874, 0.2205, 0.3330],\n",
            "         [0.2702, 0.9963, 0.1373],\n",
            "         [0.8700, 0.5417, 0.8555],\n",
            "         [0.4774, 0.7445, 0.1887],\n",
            "         [0.6430, 0.0927, 0.9559]],\n",
            "\n",
            "        [[0.6360, 0.3519, 0.6933],\n",
            "         [0.2720, 0.6299, 0.4967],\n",
            "         [0.3031, 0.0788, 0.3985],\n",
            "         [0.4779, 0.2824, 0.9299],\n",
            "         [0.6609, 0.2196, 0.9862],\n",
            "         [0.0508, 0.1837, 0.2536],\n",
            "         [0.8914, 0.0293, 0.5479],\n",
            "         [0.9304, 0.6457, 0.4150]],\n",
            "\n",
            "        [[0.6662, 0.7969, 0.5798],\n",
            "         [0.4033, 0.7139, 0.7614],\n",
            "         [0.9745, 0.0120, 0.8399],\n",
            "         [0.5559, 0.5495, 0.8058],\n",
            "         [0.7617, 0.5308, 0.5008],\n",
            "         [0.3361, 0.9803, 0.1785],\n",
            "         [0.2757, 0.0595, 0.5037],\n",
            "         [0.6116, 0.6129, 0.5279]]])\n",
            "3\n"
          ]
        }
      ]
    },
    {
      "cell_type": "code",
      "source": [],
      "metadata": {
        "id": "Ry2QpWskKU7N"
      },
      "execution_count": null,
      "outputs": []
    },
    {
      "cell_type": "code",
      "source": [
        "# create a random tensor with similar shape to an image tensor\n",
        "random_image_size_tensor = torch.rand(size=(3,224,224)) # color channel, height, width\n",
        "random_image_size_tensor.shape, random_image_size_tensor.ndim"
      ],
      "metadata": {
        "colab": {
          "base_uri": "https://localhost:8080/"
        },
        "id": "m7kHMFS-IcUQ",
        "outputId": "78fb64e1-f5f3-4989-a6b6-e2ccaba97304"
      },
      "execution_count": 22,
      "outputs": [
        {
          "output_type": "execute_result",
          "data": {
            "text/plain": [
              "(torch.Size([3, 224, 224]), 3)"
            ]
          },
          "metadata": {},
          "execution_count": 22
        }
      ]
    },
    {
      "cell_type": "markdown",
      "source": [],
      "metadata": {
        "id": "xVhHRRyKKRE8"
      }
    },
    {
      "cell_type": "code",
      "source": [
        "# ones and zeros tesnors are used very often to create masks\n",
        "#Create of tensor with all ones\n",
        "ones = torch.ones(3,4)\n",
        "print(ones)\n",
        "\n",
        "# create a tensor with all zeros\n",
        "zeros = torch.zeros(3,4)\n",
        "print(zeros)\n",
        "\n",
        "# get the type of the data\n",
        "print(ones.dtype)"
      ],
      "metadata": {
        "colab": {
          "base_uri": "https://localhost:8080/"
        },
        "id": "bFBOYS5fKWZl",
        "outputId": "0fee1fc7-4523-4c94-8294-73e3dc472ae6"
      },
      "execution_count": 27,
      "outputs": [
        {
          "output_type": "stream",
          "name": "stdout",
          "text": [
            "tensor([[1., 1., 1., 1.],\n",
            "        [1., 1., 1., 1.],\n",
            "        [1., 1., 1., 1.]])\n",
            "tensor([[0., 0., 0., 0.],\n",
            "        [0., 0., 0., 0.],\n",
            "        [0., 0., 0., 0.]])\n",
            "torch.float32\n"
          ]
        }
      ]
    },
    {
      "cell_type": "code",
      "source": [
        "# creating a range of tensors and tesnors-like\n",
        "# use torch.range\n",
        "# torch.range(0,10)\n",
        "# nerw version : arange\n",
        "torch.arange(2,10)\n",
        "\n",
        "one_to_ten = torch.arange(start=0, end = 11, step = 1) #finishes at end-1 !!\n",
        "print(one_to_ten)\n",
        "print(one_to_ten.ndim)\n",
        "print(one_to_ten.shape)\n",
        "\n",
        "one_to_tousand = torch.arange(start=0, end = 1000, step = 77)\n",
        "print(one_to_tousand)\n",
        "print(one_to_tousand.ndim)\n",
        "print(one_to_tousand.shape)\n",
        "\n",
        "# creating tensors-like\n",
        "ten_zeros = torch.zeros_like(input=one_to_ten) # this creates a new tensor having the shapre of one_to_ten tensor\n",
        "print(ten_zeros)"
      ],
      "metadata": {
        "colab": {
          "base_uri": "https://localhost:8080/"
        },
        "id": "21GFvCgcK6zU",
        "outputId": "72a6c55d-e786-4ee1-b13d-98c54e0df439"
      },
      "execution_count": 34,
      "outputs": [
        {
          "output_type": "stream",
          "name": "stdout",
          "text": [
            "tensor([ 0,  1,  2,  3,  4,  5,  6,  7,  8,  9, 10])\n",
            "1\n",
            "torch.Size([11])\n",
            "tensor([  0,  77, 154, 231, 308, 385, 462, 539, 616, 693, 770, 847, 924])\n",
            "1\n",
            "torch.Size([13])\n",
            "tensor([0, 0, 0, 0, 0, 0, 0, 0, 0, 0, 0])\n"
          ]
        }
      ]
    }
  ]
}