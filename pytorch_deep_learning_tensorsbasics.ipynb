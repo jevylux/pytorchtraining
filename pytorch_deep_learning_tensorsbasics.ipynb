{
  "nbformat": 4,
  "nbformat_minor": 0,
  "metadata": {
    "colab": {
      "provenance": [],
      "authorship_tag": "ABX9TyMHh5Z9V4Oo523qPppMU3qe",
      "include_colab_link": true
    },
    "kernelspec": {
      "name": "python3",
      "display_name": "Python 3"
    },
    "language_info": {
      "name": "python"
    }
  },
  "cells": [
    {
      "cell_type": "markdown",
      "metadata": {
        "id": "view-in-github",
        "colab_type": "text"
      },
      "source": [
        "<a href=\"https://colab.research.google.com/github/jevylux/pytorchtraining/blob/main/pytorch_deep_learning_tensorsbasics.ipynb\" target=\"_parent\"><img src=\"https://colab.research.google.com/assets/colab-badge.svg\" alt=\"Open In Colab\"/></a>"
      ]
    },
    {
      "cell_type": "code",
      "execution_count": 1,
      "metadata": {
        "colab": {
          "base_uri": "https://localhost:8080/"
        },
        "id": "NDwiLsXa_IHi",
        "outputId": "b73bc6e6-202d-4c87-cfb7-7e0e5cdcf366"
      },
      "outputs": [
        {
          "output_type": "stream",
          "name": "stdout",
          "text": [
            "2.1.0+cu118\n"
          ]
        }
      ],
      "source": [
        "import torch\n",
        "import pandas as pd\n",
        "import numpy as np\n",
        "import matplotlib.pyplot as plt\n",
        "print(torch.__version__)\n"
      ]
    },
    {
      "cell_type": "markdown",
      "source": [
        "pytorch tensors are created using torch.Tensor() = https://pytorch.org/docs/stable/tensors.html\n"
      ],
      "metadata": {
        "id": "i6CREI1PCjo9"
      }
    },
    {
      "cell_type": "code",
      "source": [
        "# scalar\n",
        "scalar = torch.tensor(7)\n",
        "scalar\n"
      ],
      "metadata": {
        "colab": {
          "base_uri": "https://localhost:8080/"
        },
        "id": "ispjqkRCCvFg",
        "outputId": "7ae4221c-89d2-44b8-ebbb-0dec12764bcb"
      },
      "execution_count": 2,
      "outputs": [
        {
          "output_type": "execute_result",
          "data": {
            "text/plain": [
              "tensor(7)"
            ]
          },
          "metadata": {},
          "execution_count": 2
        }
      ]
    },
    {
      "cell_type": "code",
      "source": [
        "scalar.ndim\n",
        "# get sc alar back as python int\n",
        "scalar.item()\n"
      ],
      "metadata": {
        "colab": {
          "base_uri": "https://localhost:8080/"
        },
        "id": "u08eVdeDC6Xp",
        "outputId": "ee28368b-24a5-448a-ae71-605ecc1c3800"
      },
      "execution_count": 3,
      "outputs": [
        {
          "output_type": "execute_result",
          "data": {
            "text/plain": [
              "7"
            ]
          },
          "metadata": {},
          "execution_count": 3
        }
      ]
    },
    {
      "cell_type": "code",
      "source": [
        "# vector\n",
        "vector = torch.tensor([7, 7])\n",
        "print(vector)\n",
        "print(vector.ndim)\n",
        "\n",
        "print(vector.shape)\n"
      ],
      "metadata": {
        "colab": {
          "base_uri": "https://localhost:8080/"
        },
        "id": "yPm8mYajC91E",
        "outputId": "0db73453-77f8-40de-8725-8abc738abdd9"
      },
      "execution_count": 4,
      "outputs": [
        {
          "output_type": "stream",
          "name": "stdout",
          "text": [
            "tensor([7, 7])\n",
            "1\n",
            "torch.Size([2])\n"
          ]
        }
      ]
    },
    {
      "cell_type": "code",
      "source": [
        "3 # matrix\n",
        "MATRIX = torch.tensor([[7, 8],\n",
        "                       [9,10]])\n",
        "print(MATRIX)\n",
        "print(MATRIX.ndim)\n",
        "print(MATRIX.shape)\n",
        "print(MATRIX[0])\n",
        "print(MATRIX[1])\n"
      ],
      "metadata": {
        "colab": {
          "base_uri": "https://localhost:8080/"
        },
        "id": "vj7GFbQqDuUI",
        "outputId": "7773e2f9-1f64-46fa-9434-2c0a14d803e4"
      },
      "execution_count": 5,
      "outputs": [
        {
          "output_type": "stream",
          "name": "stdout",
          "text": [
            "tensor([[ 7,  8],\n",
            "        [ 9, 10]])\n",
            "2\n",
            "torch.Size([2, 2])\n",
            "tensor([7, 8])\n",
            "tensor([ 9, 10])\n"
          ]
        }
      ]
    },
    {
      "cell_type": "code",
      "source": [
        "# tensor\n",
        "TENSOR = torch.tensor([[[1,2,3],\n",
        "                        [3,6,9],\n",
        "                        [2,4,5],\n",
        "                        [5,7,9]]])\n",
        "print(TENSOR)\n",
        "print(TENSOR.ndim)\n",
        "print(TENSOR.shape)"
      ],
      "metadata": {
        "colab": {
          "base_uri": "https://localhost:8080/"
        },
        "id": "KIpo4j35EdCd",
        "outputId": "fc8a629e-7400-4004-fe1a-a0abacb8446a"
      },
      "execution_count": 6,
      "outputs": [
        {
          "output_type": "stream",
          "name": "stdout",
          "text": [
            "tensor([[[1, 2, 3],\n",
            "         [3, 6, 9],\n",
            "         [2, 4, 5],\n",
            "         [5, 7, 9]]])\n",
            "3\n",
            "torch.Size([1, 4, 3])\n"
          ]
        }
      ]
    },
    {
      "cell_type": "markdown",
      "source": [
        "# Random Tensors\n",
        "Random tensors are importsant becaudse the way many neural networks learn\n",
        "start with random numbers -> look at data -> update random numbers -> look at data -> update\n",
        "\n"
      ],
      "metadata": {
        "id": "O4xnkPHJGXVN"
      }
    },
    {
      "cell_type": "code",
      "source": [
        "# create a random tensor : https://pytorch.org/docs/stable/generated/torch.rand.html\n",
        "random_tensor = torch.rand(3,4)\n",
        "print(random_tensor)\n",
        "print(random_tensor.ndim)\n",
        "\n",
        "random_tensor2 = torch.rand(5,8,3)\n",
        "print(random_tensor2)\n",
        "print(random_tensor2.ndim)\n"
      ],
      "metadata": {
        "colab": {
          "base_uri": "https://localhost:8080/"
        },
        "id": "gc1fPniKHae-",
        "outputId": "ba77512a-33ff-45f0-ac1e-456d925d4b68"
      },
      "execution_count": 7,
      "outputs": [
        {
          "output_type": "stream",
          "name": "stdout",
          "text": [
            "tensor([[0.3160, 0.8583, 0.3591, 0.4607],\n",
            "        [0.1197, 0.8504, 0.1480, 0.1293],\n",
            "        [0.9655, 0.9252, 0.9304, 0.2544]])\n",
            "2\n",
            "tensor([[[0.4690, 0.2891, 0.6245],\n",
            "         [0.6965, 0.1408, 0.3057],\n",
            "         [0.0563, 0.7452, 0.7536],\n",
            "         [0.5279, 0.8875, 0.6770],\n",
            "         [0.2648, 0.1000, 0.4008],\n",
            "         [0.3479, 0.3772, 0.7432],\n",
            "         [0.1140, 0.5125, 0.0445],\n",
            "         [0.8318, 0.3745, 0.4760]],\n",
            "\n",
            "        [[0.0527, 0.1390, 0.9400],\n",
            "         [0.6701, 0.8878, 0.8975],\n",
            "         [0.2439, 0.9792, 0.9414],\n",
            "         [0.7490, 0.1096, 0.0134],\n",
            "         [0.7534, 0.8834, 0.4037],\n",
            "         [0.6070, 0.7150, 0.1426],\n",
            "         [0.1277, 0.1203, 0.3810],\n",
            "         [0.4049, 0.8950, 0.9243]],\n",
            "\n",
            "        [[0.6880, 0.3915, 0.9256],\n",
            "         [0.8670, 0.7830, 0.4437],\n",
            "         [0.9785, 0.5938, 0.0060],\n",
            "         [0.0622, 0.3177, 0.5707],\n",
            "         [0.7460, 0.3815, 0.0838],\n",
            "         [0.5745, 0.0430, 0.5768],\n",
            "         [0.8157, 0.8012, 0.1785],\n",
            "         [0.2295, 0.9355, 0.0267]],\n",
            "\n",
            "        [[0.5607, 0.2180, 0.0736],\n",
            "         [0.0859, 0.7335, 0.4136],\n",
            "         [0.5456, 0.4699, 0.1890],\n",
            "         [0.8363, 0.5933, 0.7098],\n",
            "         [0.7086, 0.8943, 0.4017],\n",
            "         [0.6910, 0.3193, 0.9334],\n",
            "         [0.3393, 0.5639, 0.6696],\n",
            "         [0.8877, 0.6434, 0.6945]],\n",
            "\n",
            "        [[0.7863, 0.9989, 0.7529],\n",
            "         [0.1290, 0.0025, 0.2649],\n",
            "         [0.9496, 0.2168, 0.5894],\n",
            "         [0.7938, 0.0301, 0.7421],\n",
            "         [0.7937, 0.7259, 0.5250],\n",
            "         [0.1555, 0.6845, 0.5158],\n",
            "         [0.2652, 0.7966, 0.3819],\n",
            "         [0.2917, 0.2079, 0.2988]]])\n",
            "3\n"
          ]
        }
      ]
    },
    {
      "cell_type": "code",
      "source": [],
      "metadata": {
        "id": "Ry2QpWskKU7N"
      },
      "execution_count": 7,
      "outputs": []
    },
    {
      "cell_type": "code",
      "source": [
        "# create a random tensor with similar shape to an image tensor\n",
        "random_image_size_tensor = torch.rand(size=(3,224,224)) # color channel, height, width\n",
        "random_image_size_tensor.shape, random_image_size_tensor.ndim"
      ],
      "metadata": {
        "colab": {
          "base_uri": "https://localhost:8080/"
        },
        "id": "m7kHMFS-IcUQ",
        "outputId": "41204100-948d-4d1b-b869-484f412c9d83"
      },
      "execution_count": 8,
      "outputs": [
        {
          "output_type": "execute_result",
          "data": {
            "text/plain": [
              "(torch.Size([3, 224, 224]), 3)"
            ]
          },
          "metadata": {},
          "execution_count": 8
        }
      ]
    },
    {
      "cell_type": "markdown",
      "source": [],
      "metadata": {
        "id": "xVhHRRyKKRE8"
      }
    },
    {
      "cell_type": "code",
      "source": [
        "# ones and zeros tesnors are used very often to create masks\n",
        "#Create of tensor with all ones\n",
        "ones = torch.ones(3,4)\n",
        "print(ones)\n",
        "\n",
        "# create a tensor with all zeros\n",
        "zeros = torch.zeros(3,4)\n",
        "print(zeros)\n",
        "\n",
        "# get the type of the data\n",
        "print(ones.dtype)"
      ],
      "metadata": {
        "colab": {
          "base_uri": "https://localhost:8080/"
        },
        "id": "bFBOYS5fKWZl",
        "outputId": "d1d4c072-fddd-428c-ed24-35471da35aff"
      },
      "execution_count": 9,
      "outputs": [
        {
          "output_type": "stream",
          "name": "stdout",
          "text": [
            "tensor([[1., 1., 1., 1.],\n",
            "        [1., 1., 1., 1.],\n",
            "        [1., 1., 1., 1.]])\n",
            "tensor([[0., 0., 0., 0.],\n",
            "        [0., 0., 0., 0.],\n",
            "        [0., 0., 0., 0.]])\n",
            "torch.float32\n"
          ]
        }
      ]
    },
    {
      "cell_type": "code",
      "source": [
        "# creating a range of tensors and tesnors-like\n",
        "# use torch.range\n",
        "# torch.range(0,10)\n",
        "# nerw version : arange\n",
        "torch.arange(2,10)\n",
        "\n",
        "one_to_ten = torch.arange(start=0, end = 11, step = 1) #finishes at end-1 !!\n",
        "print(one_to_ten)\n",
        "print(one_to_ten.ndim)\n",
        "print(one_to_ten.shape)\n",
        "\n",
        "one_to_tousand = torch.arange(start=0, end = 1000, step = 77)\n",
        "print(one_to_tousand)\n",
        "print(one_to_tousand.ndim)\n",
        "print(one_to_tousand.shape)\n",
        "\n",
        "# creating tensors-like\n",
        "ten_zeros = torch.zeros_like(input=one_to_ten) # this creates a new tensor having the shapre of one_to_ten tensor\n",
        "print(ten_zeros)"
      ],
      "metadata": {
        "colab": {
          "base_uri": "https://localhost:8080/"
        },
        "id": "21GFvCgcK6zU",
        "outputId": "547f2e14-0a36-455d-a83b-27191b6ef09c"
      },
      "execution_count": 10,
      "outputs": [
        {
          "output_type": "stream",
          "name": "stdout",
          "text": [
            "tensor([ 0,  1,  2,  3,  4,  5,  6,  7,  8,  9, 10])\n",
            "1\n",
            "torch.Size([11])\n",
            "tensor([  0,  77, 154, 231, 308, 385, 462, 539, 616, 693, 770, 847, 924])\n",
            "1\n",
            "torch.Size([13])\n",
            "tensor([0, 0, 0, 0, 0, 0, 0, 0, 0, 0, 0])\n"
          ]
        }
      ]
    },
    {
      "cell_type": "code",
      "source": [
        "# Tensor datatypes\n",
        "# Float 32 tensor\n",
        "float_32_tensor = torch.tensor([3.0, 6.0, 9.0],\n",
        "                               dtype=None, # what datatype is the tensor\n",
        "                               device = None, # cpu or CUDA, or MPS on mac m1\n",
        "                               requires_grad = False) # weather or not to track gradients\n",
        "\n",
        "float_32_tensor\n"
      ],
      "metadata": {
        "colab": {
          "base_uri": "https://localhost:8080/"
        },
        "id": "SRlLvmWCOdqE",
        "outputId": "3f7dc8f2-a6b8-4044-c01e-e5779b75705b"
      },
      "execution_count": 11,
      "outputs": [
        {
          "output_type": "execute_result",
          "data": {
            "text/plain": [
              "tensor([3., 6., 9.])"
            ]
          },
          "metadata": {},
          "execution_count": 11
        }
      ]
    },
    {
      "cell_type": "code",
      "source": [
        "float_32_tensor.dtype"
      ],
      "metadata": {
        "colab": {
          "base_uri": "https://localhost:8080/"
        },
        "id": "8bJPFNpRQjLH",
        "outputId": "0f143336-8c7c-4e9d-e6ef-c12c0133e1b4"
      },
      "execution_count": 12,
      "outputs": [
        {
          "output_type": "execute_result",
          "data": {
            "text/plain": [
              "torch.float32"
            ]
          },
          "metadata": {},
          "execution_count": 12
        }
      ]
    },
    {
      "cell_type": "code",
      "source": [
        "# transform datatype\n",
        "float_16_tensor = float_32_tensor.type(torch.float16)\n",
        "float_16_tensor"
      ],
      "metadata": {
        "colab": {
          "base_uri": "https://localhost:8080/"
        },
        "id": "GL-dqK-4RbNo",
        "outputId": "fd0797e0-d599-49fd-bd28-08b6fecba80b"
      },
      "execution_count": 13,
      "outputs": [
        {
          "output_type": "execute_result",
          "data": {
            "text/plain": [
              "tensor([3., 6., 9.], dtype=torch.float16)"
            ]
          },
          "metadata": {},
          "execution_count": 13
        }
      ]
    },
    {
      "cell_type": "code",
      "source": [
        "# tesnor multiplication\n",
        "print(float_16_tensor * float_32_tensor)\n"
      ],
      "metadata": {
        "colab": {
          "base_uri": "https://localhost:8080/"
        },
        "id": "7wpjMsDOSGLz",
        "outputId": "c39074c9-3ba6-499d-dbbf-2e322306ad0b"
      },
      "execution_count": 14,
      "outputs": [
        {
          "output_type": "stream",
          "name": "stdout",
          "text": [
            "tensor([ 9., 36., 81.])\n"
          ]
        }
      ]
    },
    {
      "cell_type": "code",
      "source": [
        "int_32_tensor = torch.tensor([4,5,8], dtype= torch.int32)\n",
        "float_32_tensor * int_32_tensor"
      ],
      "metadata": {
        "colab": {
          "base_uri": "https://localhost:8080/"
        },
        "id": "a-gMKuQgSIff",
        "outputId": "f787085f-21e0-4cb1-f6a6-aa846faf4c2a"
      },
      "execution_count": 15,
      "outputs": [
        {
          "output_type": "execute_result",
          "data": {
            "text/plain": [
              "tensor([12., 30., 72.])"
            ]
          },
          "metadata": {},
          "execution_count": 15
        }
      ]
    },
    {
      "cell_type": "code",
      "source": [
        "# getting information form tesnors\n",
        "# tesnsor.dtype  to get datatype\n",
        "# tensor.shape  to get shape\n",
        "# tensor.device to get device from a tensor\n",
        "some_tensor = torch.rand(3,5)\n",
        "print(some_tensor)\n",
        "print(f\"Datatype of tensor : {some_tensor.dtype}\")\n",
        "print(f\"Shape of tensor : {some_tensor.shape}\")\n",
        "print(f\"Tensor is on  {some_tensor.device} device\")"
      ],
      "metadata": {
        "colab": {
          "base_uri": "https://localhost:8080/"
        },
        "id": "WsGbKxDNTILg",
        "outputId": "efdb2945-7016-4861-ba03-47e7511fd554"
      },
      "execution_count": 17,
      "outputs": [
        {
          "output_type": "stream",
          "name": "stdout",
          "text": [
            "tensor([[2.4045e-01, 5.2556e-01, 4.5145e-04, 2.5145e-01, 6.0310e-01],\n",
            "        [9.1976e-01, 1.9598e-01, 8.2476e-01, 4.9073e-01, 7.5142e-01],\n",
            "        [7.0071e-01, 5.1735e-01, 4.9824e-02, 4.8059e-01, 4.0028e-01]])\n",
            "Datatype of tensor : torch.float32\n",
            "Shape of tensor : torch.Size([3, 5])\n",
            "Tensor is on  cpu device\n"
          ]
        }
      ]
    },
    {
      "cell_type": "code",
      "source": [],
      "metadata": {
        "id": "vkOhymPvp0GG"
      },
      "execution_count": null,
      "outputs": []
    },
    {
      "cell_type": "code",
      "source": [
        "# Manipulating Tensors (tensor operations)\n",
        "# addition\n",
        "# substruction\n",
        "# multiplication\n",
        "# division\n",
        "# matrix multiplication\n",
        "\n",
        "# create a tensor\n",
        "tensor = torch.tensor([1,2,3])\n",
        "# addition\n",
        "print(tensor + 10) # or\n",
        "print(tensor.add(10)) #or even\n",
        "print(torch.add(tensor, 10))\n",
        "# multiplication\n",
        "print(tensor * 10) # or\n",
        "print(tensor.mul(10))\n",
        "# substruction\n",
        "print(tensor -10) #or\n",
        "print(tensor.sub(-10))\n",
        "# division\n",
        "print(tensor / 4) #or\n",
        "print(tensor.div(4))\n",
        "\n",
        "\n"
      ],
      "metadata": {
        "colab": {
          "base_uri": "https://localhost:8080/"
        },
        "outputId": "00792b6e-b1c8-41ad-e947-c1d4248bb4c9",
        "id": "ULPuXG0xp0vs"
      },
      "execution_count": 25,
      "outputs": [
        {
          "output_type": "stream",
          "name": "stdout",
          "text": [
            "tensor([11, 12, 13])\n",
            "tensor([11, 12, 13])\n",
            "tensor([11, 12, 13])\n",
            "tensor([10, 20, 30])\n",
            "tensor([10, 20, 30])\n",
            "tensor([-9, -8, -7])\n",
            "tensor([11, 12, 13])\n",
            "tensor([0.2500, 0.5000, 0.7500])\n",
            "tensor([0.2500, 0.5000, 0.7500])\n"
          ]
        }
      ]
    },
    {
      "cell_type": "code",
      "source": [
        "# matrix multiplication ( dot product)\n",
        "# https://www.mathsisfun.com/algebra/matrix-multiplying.html\n",
        "# element wise multiplication\n",
        "print(tensor, \" * \", tensor)\n",
        "print(f\" Equals : {tensor * tensor}\")\n",
        "\n",
        "# matrix nmultiplication\n",
        "print(torch.matmul(tensor, tensor))\n",
        "\n",
        "# rule 1 : the inner dimensions must match\n",
        "# rule 2: the resulting matrix has the shape of the outer dimensions:\n",
        "\n",
        "tensorA = torch.rand(4,5)\n",
        "tensorB = torch.rand(5,4)\n",
        "print(tensorA)\n",
        "print(tensorA.shape)\n",
        "print(tensorB)\n",
        "print(tensorB.shape)\n",
        "print(torch.matmul(tensorA, tensorB))\n",
        "print(torch.matmul(tensorA, tensorB).shape)"
      ],
      "metadata": {
        "colab": {
          "base_uri": "https://localhost:8080/"
        },
        "id": "gSnHK_mQstBx",
        "outputId": "8d5d6f78-70a0-4fe9-b0b3-b9daa155d4ad"
      },
      "execution_count": 32,
      "outputs": [
        {
          "output_type": "stream",
          "name": "stdout",
          "text": [
            "tensor([1, 2, 3])  *  tensor([1, 2, 3])\n",
            " Equals : tensor([1, 4, 9])\n",
            "tensor(14)\n",
            "tensor([[0.4288, 0.4028, 0.4818, 0.9629, 0.1401],\n",
            "        [0.1039, 0.4479, 0.3221, 0.8843, 0.6400],\n",
            "        [0.2589, 0.0071, 0.7586, 0.3222, 0.2732],\n",
            "        [0.8061, 0.8043, 0.4014, 0.1422, 0.2477]])\n",
            "torch.Size([4, 5])\n",
            "tensor([[0.2632, 0.4726, 0.6644, 0.1546],\n",
            "        [0.9198, 0.8310, 0.4900, 0.9861],\n",
            "        [0.9969, 0.3036, 0.0661, 0.4483],\n",
            "        [0.6537, 0.5700, 0.0610, 0.3542],\n",
            "        [0.8286, 0.3554, 0.5551, 0.3009]])\n",
            "torch.Size([5, 4])\n",
            "tensor([[1.7091, 1.2823, 0.6506, 1.0627],\n",
            "        [1.8688, 1.2507, 0.7190, 1.1079],\n",
            "        [1.2679, 0.6394, 0.3970, 0.5834],\n",
            "        [1.6503, 1.3403, 1.1024, 1.2226]])\n",
            "torch.Size([4, 4])\n"
          ]
        }
      ]
    },
    {
      "cell_type": "code",
      "source": [
        "# lets try this\n",
        "tensor_A = torch.tensor([[1,2],\n",
        "                         [3,4],\n",
        "                         [5,6]])\n",
        "tensor_B = torch.tensor([[7,10],\n",
        "                         [8,11],\n",
        "                         [9,12]])\n",
        "# multiplying these would crerate a shape error\n",
        "# torch.mm(tensor_A, tensor_B) is equual to torch.matmul(tensor_A, tensor_B)\n",
        "torch.matmul(tensor_A, tensor_B)\n"
      ],
      "metadata": {
        "colab": {
          "base_uri": "https://localhost:8080/",
          "height": 214
        },
        "id": "qSCVVD4f0dOp",
        "outputId": "d6ccb869-d2c6-4aee-eb5c-074e897c5542"
      },
      "execution_count": 33,
      "outputs": [
        {
          "output_type": "error",
          "ename": "RuntimeError",
          "evalue": "ignored",
          "traceback": [
            "\u001b[0;31m---------------------------------------------------------------------------\u001b[0m",
            "\u001b[0;31mRuntimeError\u001b[0m                              Traceback (most recent call last)",
            "\u001b[0;32m<ipython-input-33-fa5746ed57e8>\u001b[0m in \u001b[0;36m<cell line: 10>\u001b[0;34m()\u001b[0m\n\u001b[1;32m      8\u001b[0m \u001b[0;31m# multiplying these would crerate a shape error\u001b[0m\u001b[0;34m\u001b[0m\u001b[0;34m\u001b[0m\u001b[0m\n\u001b[1;32m      9\u001b[0m \u001b[0;31m# torch.mm(tensor_A, tensor_B) is equual to torch.matmul(tensor_A, tensor_B)\u001b[0m\u001b[0;34m\u001b[0m\u001b[0;34m\u001b[0m\u001b[0m\n\u001b[0;32m---> 10\u001b[0;31m \u001b[0mtorch\u001b[0m\u001b[0;34m.\u001b[0m\u001b[0mmatmul\u001b[0m\u001b[0;34m(\u001b[0m\u001b[0mtensor_A\u001b[0m\u001b[0;34m,\u001b[0m \u001b[0mtensor_B\u001b[0m\u001b[0;34m)\u001b[0m\u001b[0;34m\u001b[0m\u001b[0;34m\u001b[0m\u001b[0m\n\u001b[0m",
            "\u001b[0;31mRuntimeError\u001b[0m: mat1 and mat2 shapes cannot be multiplied (3x2 and 3x2)"
          ]
        }
      ]
    },
    {
      "cell_type": "code",
      "source": [
        "# how to fixe this ? by transposing one of the matrices\n",
        "# a transpose switches the axes or dimension of a tensor\n",
        "print(tensor_B)\n",
        "print(tensor_B.T)\n",
        "\n",
        "# now we can make a matrix multiplication\n",
        "tensor_B = tensor_B.T\n",
        "print(\"Matrix multiplication with transposed matrix B\")\n",
        "print(tensor_A)\n",
        "print(tensor_B)\n",
        "print(torch.matmul(tensor_A, tensor_B))\n",
        "# now check out this http://matrixmultiplication.xyz/. with out data"
      ],
      "metadata": {
        "colab": {
          "base_uri": "https://localhost:8080/"
        },
        "id": "S6bW-3Dx1M5X",
        "outputId": "412ad637-bd42-4f10-88cd-48f9eb3e0548"
      },
      "execution_count": 39,
      "outputs": [
        {
          "output_type": "stream",
          "name": "stdout",
          "text": [
            "tensor([[ 7, 10],\n",
            "        [ 8, 11],\n",
            "        [ 9, 12]])\n",
            "tensor([[ 7,  8,  9],\n",
            "        [10, 11, 12]])\n",
            "Matrix multiplication with transposed matrix B\n",
            "tensor([[1, 2],\n",
            "        [3, 4],\n",
            "        [5, 6]])\n",
            "tensor([[ 7,  8,  9],\n",
            "        [10, 11, 12]])\n",
            "tensor([[ 27,  30,  33],\n",
            "        [ 61,  68,  75],\n",
            "        [ 95, 106, 117]])\n"
          ]
        }
      ]
    }
  ]
}