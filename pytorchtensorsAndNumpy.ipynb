{
  "nbformat": 4,
  "nbformat_minor": 0,
  "metadata": {
    "colab": {
      "provenance": [],
      "authorship_tag": "ABX9TyMPC5sBxXHJsX9nGxgD56BB",
      "include_colab_link": true
    },
    "kernelspec": {
      "name": "python3",
      "display_name": "Python 3"
    },
    "language_info": {
      "name": "python"
    }
  },
  "cells": [
    {
      "cell_type": "markdown",
      "metadata": {
        "id": "view-in-github",
        "colab_type": "text"
      },
      "source": [
        "<a href=\"https://colab.research.google.com/github/jevylux/pytorchtraining/blob/main/pytorchtensorsAndNumpy.ipynb\" target=\"_parent\"><img src=\"https://colab.research.google.com/assets/colab-badge.svg\" alt=\"Open In Colab\"/></a>"
      ]
    },
    {
      "cell_type": "code",
      "execution_count": 1,
      "metadata": {
        "colab": {
          "base_uri": "https://localhost:8080/"
        },
        "id": "zOIzyHdXSKby",
        "outputId": "a3ce5602-bca3-490b-a340-8309e38d61ea"
      },
      "outputs": [
        {
          "output_type": "stream",
          "name": "stdout",
          "text": [
            "2.1.0+cu118\n"
          ]
        }
      ],
      "source": [
        "import torch\n",
        "import pandas as pd\n",
        "import numpy as np\n",
        "import matplotlib.pyplot as plt\n",
        "print(torch.__version__)"
      ]
    },
    {
      "cell_type": "code",
      "source": [
        "# data in numpy, want in pytorch tensor -> torch.from_numpy(ndarray)\n",
        "# pytorch tensor -> numpy -> torch.Tensor.numpy()\n",
        "\n",
        "array = np.arange(1.0, 8.0)\n",
        "print(array)\n",
        "tensor = torch.from_numpy(array)\n",
        "print(tensor)\n",
        "# we see that the default datatype of numpy is float64, whereas torch default datatpye is float 32\n"
      ],
      "metadata": {
        "colab": {
          "base_uri": "https://localhost:8080/"
        },
        "id": "TVEfS1UlSR1T",
        "outputId": "cf32b865-8db6-4f6f-9666-8777820702ed"
      },
      "execution_count": 3,
      "outputs": [
        {
          "output_type": "stream",
          "name": "stdout",
          "text": [
            "[1. 2. 3. 4. 5. 6. 7.]\n",
            "tensor([1., 2., 3., 4., 5., 6., 7.], dtype=torch.float64)\n"
          ]
        }
      ]
    },
    {
      "cell_type": "code",
      "source": [
        "# tensor to numpy\n",
        "tensorOnes = torch.ones(7)\n",
        "print(tensorOnes)\n",
        "numpy_tensor = tensorOnes.numpy()\n",
        "print(numpy_tensor)"
      ],
      "metadata": {
        "colab": {
          "base_uri": "https://localhost:8080/"
        },
        "id": "YA1mT_ziTw1T",
        "outputId": "bef8beb2-0cef-40d5-ff5b-27744e95d0bf"
      },
      "execution_count": 5,
      "outputs": [
        {
          "output_type": "stream",
          "name": "stdout",
          "text": [
            "tensor([1., 1., 1., 1., 1., 1., 1.])\n",
            "[1. 1. 1. 1. 1. 1. 1.]\n"
          ]
        }
      ]
    },
    {
      "cell_type": "code",
      "source": [
        "# reproducivility ( trying to take random out of random)\n",
        "\n",
        "random_Tensor_A =torch.rand(3,4)\n",
        "random_Tensor_B =torch.rand(3,4)\n",
        "print(random_Tensor_A)\n",
        "print(random_Tensor_B)\n",
        "print(random_Tensor_A == random_Tensor_B)\n",
        "# each time, the random data will be different\n",
        "# in order to change this an generate the same random number all over we set the random seed\n",
        "RANDOM_SEED = 42\n",
        "torch.manual_seed(RANDOM_SEED)\n",
        "random_Tensor_C =torch.rand(3,4)\n",
        "random_Tensor_D =torch.rand(3,4)\n",
        "print(random_Tensor_C)\n",
        "print(random_Tensor_D)\n",
        "print(random_Tensor_C == random_Tensor_D)\n",
        "# not good ? we have to set the random_seed each time\n",
        "print(\"better now\")\n",
        "RANDOM_SEED = 42\n",
        "torch.manual_seed(RANDOM_SEED)    #<-\n",
        "random_Tensor_C =torch.rand(3,4)\n",
        "torch.manual_seed(RANDOM_SEED)    #<-\n",
        "random_Tensor_D =torch.rand(3,4)\n",
        "print(random_Tensor_C)\n",
        "print(random_Tensor_D)\n",
        "print(random_Tensor_C == random_Tensor_D)"
      ],
      "metadata": {
        "colab": {
          "base_uri": "https://localhost:8080/"
        },
        "id": "NslUcLeUU9cc",
        "outputId": "9504b5b5-a855-4778-cf16-53d7704b9557"
      },
      "execution_count": 12,
      "outputs": [
        {
          "output_type": "stream",
          "name": "stdout",
          "text": [
            "tensor([[0.8694, 0.5677, 0.7411, 0.4294],\n",
            "        [0.8854, 0.5739, 0.2666, 0.6274],\n",
            "        [0.2696, 0.4414, 0.2969, 0.8317]])\n",
            "tensor([[0.1053, 0.2695, 0.3588, 0.1994],\n",
            "        [0.5472, 0.0062, 0.9516, 0.0753],\n",
            "        [0.8860, 0.5832, 0.3376, 0.8090]])\n",
            "tensor([[False, False, False, False],\n",
            "        [False, False, False, False],\n",
            "        [False, False, False, False]])\n",
            "tensor([[0.8823, 0.9150, 0.3829, 0.9593],\n",
            "        [0.3904, 0.6009, 0.2566, 0.7936],\n",
            "        [0.9408, 0.1332, 0.9346, 0.5936]])\n",
            "tensor([[0.8694, 0.5677, 0.7411, 0.4294],\n",
            "        [0.8854, 0.5739, 0.2666, 0.6274],\n",
            "        [0.2696, 0.4414, 0.2969, 0.8317]])\n",
            "tensor([[False, False, False, False],\n",
            "        [False, False, False, False],\n",
            "        [False, False, False, False]])\n",
            "better now\n",
            "tensor([[0.8823, 0.9150, 0.3829, 0.9593],\n",
            "        [0.3904, 0.6009, 0.2566, 0.7936],\n",
            "        [0.9408, 0.1332, 0.9346, 0.5936]])\n",
            "tensor([[0.8823, 0.9150, 0.3829, 0.9593],\n",
            "        [0.3904, 0.6009, 0.2566, 0.7936],\n",
            "        [0.9408, 0.1332, 0.9346, 0.5936]])\n",
            "tensor([[True, True, True, True],\n",
            "        [True, True, True, True],\n",
            "        [True, True, True, True]])\n"
          ]
        }
      ]
    },
    {
      "cell_type": "code",
      "source": [
        "\n"
      ],
      "metadata": {
        "id": "OMpLVm2VX0Ke"
      },
      "execution_count": null,
      "outputs": []
    }
  ]
}