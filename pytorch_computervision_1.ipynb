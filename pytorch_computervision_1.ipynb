{
  "nbformat": 4,
  "nbformat_minor": 0,
  "metadata": {
    "colab": {
      "provenance": [],
      "gpuType": "T4",
      "authorship_tag": "ABX9TyNNWY+uVuyUH/ztAtOP6z0P",
      "include_colab_link": true
    },
    "kernelspec": {
      "name": "python3",
      "display_name": "Python 3"
    },
    "language_info": {
      "name": "python"
    },
    "accelerator": "GPU"
  },
  "cells": [
    {
      "cell_type": "markdown",
      "metadata": {
        "id": "view-in-github",
        "colab_type": "text"
      },
      "source": [
        "<a href=\"https://colab.research.google.com/github/jevylux/pytorchtraining/blob/main/pytorch_computervision_1.ipynb\" target=\"_parent\"><img src=\"https://colab.research.google.com/assets/colab-badge.svg\" alt=\"Open In Colab\"/></a>"
      ]
    },
    {
      "cell_type": "markdown",
      "source": [
        "# pytorch computer vision\n",
        "# https://www.learnpytorch.io/03_pytorch_computer_vision/\n",
        "# https://github.com/mrdbourke/pytorch-deep-learning/blob/main/03_pytorch_computer_vision.ipynb\n",
        "\n"
      ],
      "metadata": {
        "id": "3On7AYfzX8vE"
      }
    },
    {
      "cell_type": "code",
      "source": [
        "# computervision libraries\n",
        "# torchvision - base domain library for PyTorch computer vision\n",
        "# torchvision.datasets - get datasets and data loading functions for computer visione\n",
        "# torchvision.models - get pretrained computer vision models that you can leverage for your own problems\n",
        "# torchvision.transforms - functions for manipulating your vision data to be suitable for use with an ML model\n",
        "# torch.utils.data.Dataset - base dataset class for PyTorch\n",
        "# torch.utils.data.DataLoader - creates a Python iterable over a dataset"
      ],
      "metadata": {
        "id": "nCITqBbPalWO"
      },
      "execution_count": null,
      "outputs": []
    },
    {
      "cell_type": "code",
      "source": [
        "# Import Pytorch\n",
        "\n",
        "import torch\n",
        "from torch import nn\n",
        "\n",
        "# impoort torchvision\n",
        "import torchvision\n",
        "from torchvision import datasets\n",
        "from torchvision import transforms\n",
        "from torchvision.transforms import ToTensor\n",
        "\n",
        "# import matplotlib\n",
        "import matplotlib.pyplot as plt\n",
        "\n",
        "# check versions\n",
        "print(torch.__version__)\n",
        "print(torchvision.__version__)\n",
        "\n",
        "# create device agnostic code ( if acces to gpu, tje code wil use it)\n",
        "device = \"cuda\" if torch.cuda.is_available() else \"cpu\"\n",
        "print(f\"Using device : {device}\")"
      ],
      "metadata": {
        "id": "m9Bb9wZo6xFG",
        "colab": {
          "base_uri": "https://localhost:8080/"
        },
        "outputId": "c1468562-1068-44d8-d170-e4b41ab485dd"
      },
      "execution_count": 1,
      "outputs": [
        {
          "output_type": "stream",
          "name": "stdout",
          "text": [
            "2.1.0+cu121\n",
            "0.16.0+cu121\n",
            "Using device : cuda\n"
          ]
        }
      ]
    }
  ]
}