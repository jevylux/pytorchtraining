{
  "nbformat": 4,
  "nbformat_minor": 0,
  "metadata": {
    "colab": {
      "provenance": [],
      "authorship_tag": "ABX9TyMBIELr1QDhQ71NgJgIcSAy",
      "include_colab_link": true
    },
    "kernelspec": {
      "name": "python3",
      "display_name": "Python 3"
    },
    "language_info": {
      "name": "python"
    }
  },
  "cells": [
    {
      "cell_type": "markdown",
      "metadata": {
        "id": "view-in-github",
        "colab_type": "text"
      },
      "source": [
        "<a href=\"https://colab.research.google.com/github/jevylux/pytorchtraining/blob/main/tensoraggregation.ipynb\" target=\"_parent\"><img src=\"https://colab.research.google.com/assets/colab-badge.svg\" alt=\"Open In Colab\"/></a>"
      ]
    },
    {
      "cell_type": "code",
      "source": [
        "import torch\n",
        "import pandas as pd\n",
        "import numpy as np\n",
        "import matplotlib.pyplot as plt\n",
        "print(torch.__version__)\n"
      ],
      "metadata": {
        "colab": {
          "base_uri": "https://localhost:8080/"
        },
        "id": "dvjEUhsy8U5K",
        "outputId": "b4eb6180-d189-4d0c-f99f-18783b497595"
      },
      "execution_count": 2,
      "outputs": [
        {
          "output_type": "stream",
          "name": "stdout",
          "text": [
            "2.1.0+cu118\n"
          ]
        }
      ]
    },
    {
      "cell_type": "code",
      "execution_count": 8,
      "metadata": {
        "colab": {
          "base_uri": "https://localhost:8080/"
        },
        "id": "EXStK5u57dxn",
        "outputId": "c50da800-bc62-4ec7-bcf9-e2ebd74f6775"
      },
      "outputs": [
        {
          "output_type": "stream",
          "name": "stdout",
          "text": [
            "tensor([ 0, 10, 20, 30, 40, 50, 60, 70, 80, 90])\n",
            "torch.int64\n",
            "tensor(0)\n",
            "tensor(0)\n"
          ]
        }
      ],
      "source": [
        "\n",
        "#finding the min, max, mean, sum etc ( tensor aggregation)\n",
        "x = torch.arange(0,100,10)\n",
        "print(x)\n",
        "print(x.dtype)\n",
        "# find the min\n",
        "print(torch.min(x))\n",
        "print(x.min())"
      ]
    },
    {
      "cell_type": "code",
      "source": [
        "#find the max\n",
        "print(torch.max(x))\n",
        "print(x.max())"
      ],
      "metadata": {
        "colab": {
          "base_uri": "https://localhost:8080/"
        },
        "id": "PgGWdsUk8Wzj",
        "outputId": "77d608b1-ebc3-49c5-816c-584779bb0308"
      },
      "execution_count": 6,
      "outputs": [
        {
          "output_type": "stream",
          "name": "stdout",
          "text": [
            "tensor(90)\n",
            "tensor(90)\n"
          ]
        }
      ]
    },
    {
      "cell_type": "code",
      "source": [
        "#find mean.  -> returns an error because it is an integer\n",
        "print(torch.mean(x))\n",
        "print(x.mean())\n"
      ],
      "metadata": {
        "colab": {
          "base_uri": "https://localhost:8080/",
          "height": 214
        },
        "id": "Sf-BP4zG8nof",
        "outputId": "7ecee376-1d48-4353-97c8-fa02f541ba46"
      },
      "execution_count": 7,
      "outputs": [
        {
          "output_type": "error",
          "ename": "RuntimeError",
          "evalue": "ignored",
          "traceback": [
            "\u001b[0;31m---------------------------------------------------------------------------\u001b[0m",
            "\u001b[0;31mRuntimeError\u001b[0m                              Traceback (most recent call last)",
            "\u001b[0;32m<ipython-input-7-86c9558ec6c5>\u001b[0m in \u001b[0;36m<cell line: 2>\u001b[0;34m()\u001b[0m\n\u001b[1;32m      1\u001b[0m \u001b[0;31m#find mean\u001b[0m\u001b[0;34m\u001b[0m\u001b[0;34m\u001b[0m\u001b[0m\n\u001b[0;32m----> 2\u001b[0;31m \u001b[0mprint\u001b[0m\u001b[0;34m(\u001b[0m\u001b[0mtorch\u001b[0m\u001b[0;34m.\u001b[0m\u001b[0mmean\u001b[0m\u001b[0;34m(\u001b[0m\u001b[0mx\u001b[0m\u001b[0;34m)\u001b[0m\u001b[0;34m)\u001b[0m\u001b[0;34m\u001b[0m\u001b[0;34m\u001b[0m\u001b[0m\n\u001b[0m\u001b[1;32m      3\u001b[0m \u001b[0mprint\u001b[0m\u001b[0;34m(\u001b[0m\u001b[0mx\u001b[0m\u001b[0;34m.\u001b[0m\u001b[0mmean\u001b[0m\u001b[0;34m(\u001b[0m\u001b[0;34m)\u001b[0m\u001b[0;34m)\u001b[0m\u001b[0;34m\u001b[0m\u001b[0;34m\u001b[0m\u001b[0m\n",
            "\u001b[0;31mRuntimeError\u001b[0m: mean(): could not infer output dtype. Input dtype must be either a floating point or complex dtype. Got: Long"
          ]
        }
      ]
    },
    {
      "cell_type": "code",
      "source": [
        "#we need to change the datatype\n",
        "print(torch.mean(x.type(torch.float32)))\n",
        "print(x.type(torch.float32).mean())"
      ],
      "metadata": {
        "colab": {
          "base_uri": "https://localhost:8080/"
        },
        "id": "JwKWBKmY9SOS",
        "outputId": "0f55defc-c716-479c-ef77-98b1114b68ee"
      },
      "execution_count": 11,
      "outputs": [
        {
          "output_type": "stream",
          "name": "stdout",
          "text": [
            "tensor(45.)\n",
            "tensor(45.)\n"
          ]
        }
      ]
    },
    {
      "cell_type": "code",
      "source": [
        "#find the sum\n",
        "print(torch.sum(x))\n",
        "print(x.sum())"
      ],
      "metadata": {
        "colab": {
          "base_uri": "https://localhost:8080/"
        },
        "id": "ITPhxM0b952u",
        "outputId": "f476bcd2-d5f5-4e03-d4e0-270be1ab2ed2"
      },
      "execution_count": 12,
      "outputs": [
        {
          "output_type": "stream",
          "name": "stdout",
          "text": [
            "tensor(450)\n",
            "tensor(450)\n"
          ]
        }
      ]
    },
    {
      "cell_type": "code",
      "source": [
        "# find the positional min and max - returns the index of tensor where the min or max occured\n",
        "print(x.argmin())\n",
        "print(x.argmax())\n"
      ],
      "metadata": {
        "colab": {
          "base_uri": "https://localhost:8080/"
        },
        "id": "gd1lRENI-Pc8",
        "outputId": "7a26cf08-2ea6-4a7a-98e7-0a6f5a794f8e"
      },
      "execution_count": 15,
      "outputs": [
        {
          "output_type": "stream",
          "name": "stdout",
          "text": [
            "tensor(0)\n",
            "tensor(9)\n"
          ]
        }
      ]
    },
    {
      "cell_type": "code",
      "source": [
        "# reshaping, stacking, squeezing and unsqueezing tensors\n",
        "# reshaping - reshaps an input tensor to a defined shape\n",
        "# View - return a view of an input tensor of certain shape but keep the same memory as original tensor\n",
        "# stacking - combine multile tensor on each other ( vertical stacks, horizontal stack)\n",
        "# squeeze - removes all '1' dimensions from a tensor\n",
        "# unsqueeze - add a '1' dimension to a target tensor\n",
        "# permute - return a view of the input with dimensions permuted(sdwapped) in a certain way\n",
        "\n",
        "x = torch.arange(1.,11.)\n",
        "print(x, \" - \", x.shape)\n",
        "\n",
        "# add an  extra dimension - reshape has to be comptaible with the original shape\n",
        "x_reshaped = x.reshape(1, 10)\n",
        "print(x_reshaped, \" - \", x_reshaped.shape)\n",
        "\n",
        "x_reshaped = x.reshape(10, 1)\n",
        "print(x_reshaped, \" - \", x_reshaped.shape)\n",
        "\n",
        "x_reshaped = x.reshape(5, 2)\n",
        "print(x_reshaped, \" - \", x_reshaped.shape)\n",
        "\n",
        "x_reshaped = x.reshape(2, 5)\n",
        "print(x_reshaped, \" - \", x_reshaped.shape)"
      ],
      "metadata": {
        "colab": {
          "base_uri": "https://localhost:8080/"
        },
        "id": "LOljcmJv_ckv",
        "outputId": "fec45304-b9d0-4032-e857-e1b4ee24af6a"
      },
      "execution_count": 28,
      "outputs": [
        {
          "output_type": "stream",
          "name": "stdout",
          "text": [
            "tensor([ 1.,  2.,  3.,  4.,  5.,  6.,  7.,  8.,  9., 10.])  -  torch.Size([10])\n",
            "tensor([[ 1.,  2.,  3.,  4.,  5.,  6.,  7.,  8.,  9., 10.]])  -  torch.Size([1, 10])\n",
            "tensor([[ 1.],\n",
            "        [ 2.],\n",
            "        [ 3.],\n",
            "        [ 4.],\n",
            "        [ 5.],\n",
            "        [ 6.],\n",
            "        [ 7.],\n",
            "        [ 8.],\n",
            "        [ 9.],\n",
            "        [10.]])  -  torch.Size([10, 1])\n",
            "tensor([[ 1.,  2.],\n",
            "        [ 3.,  4.],\n",
            "        [ 5.,  6.],\n",
            "        [ 7.,  8.],\n",
            "        [ 9., 10.]])  -  torch.Size([5, 2])\n",
            "tensor([[ 1.,  2.,  3.,  4.,  5.],\n",
            "        [ 6.,  7.,  8.,  9., 10.]])  -  torch.Size([2, 5])\n"
          ]
        }
      ]
    },
    {
      "cell_type": "code",
      "source": [
        "# change the view\n",
        "z = x.view(1,10)\n",
        "print(z, \" - \", z.shape)\n",
        "\n",
        "# z is a fifferent view of x, they share the same memory\n",
        "# thus changing z changes x\n",
        "z[:,0] = 5\n",
        "print(x)\n",
        "print(z)\n"
      ],
      "metadata": {
        "colab": {
          "base_uri": "https://localhost:8080/"
        },
        "id": "NWJouEqwBbW3",
        "outputId": "bbb5973c-5e04-43b6-d295-acb1480c20d8"
      },
      "execution_count": 27,
      "outputs": [
        {
          "output_type": "stream",
          "name": "stdout",
          "text": [
            "tensor([[ 5.,  2.,  3.,  4.,  5.,  6.,  7.,  8.,  9., 10.]])  -  torch.Size([1, 10])\n",
            "tensor([ 5.,  2.,  3.,  4.,  5.,  6.,  7.,  8.,  9., 10.])\n",
            "tensor([[ 5.,  2.,  3.,  4.,  5.,  6.,  7.,  8.,  9., 10.]])\n"
          ]
        }
      ]
    },
    {
      "cell_type": "code",
      "source": [
        "from os import X_OK\n",
        "# stack tensors on top of eachn other\n",
        "x_stacked = torch.stack([x,x,x],dim=0)\n",
        "print(x_stacked, x_stacked.shape)\n",
        "x_stacked = torch.stack([x,x,x],dim=1)\n",
        "print(x_stacked, x_stacked.shape)\n"
      ],
      "metadata": {
        "colab": {
          "base_uri": "https://localhost:8080/"
        },
        "id": "8rpWSHrgDS2R",
        "outputId": "962ba0ac-9e9e-4559-f0a1-6d4280fd7a70"
      },
      "execution_count": 31,
      "outputs": [
        {
          "output_type": "stream",
          "name": "stdout",
          "text": [
            "tensor([[ 1.,  2.,  3.,  4.,  5.,  6.,  7.,  8.,  9., 10.],\n",
            "        [ 1.,  2.,  3.,  4.,  5.,  6.,  7.,  8.,  9., 10.],\n",
            "        [ 1.,  2.,  3.,  4.,  5.,  6.,  7.,  8.,  9., 10.]]) torch.Size([3, 10])\n",
            "tensor([[ 1.,  1.,  1.],\n",
            "        [ 2.,  2.,  2.],\n",
            "        [ 3.,  3.,  3.],\n",
            "        [ 4.,  4.,  4.],\n",
            "        [ 5.,  5.,  5.],\n",
            "        [ 6.,  6.,  6.],\n",
            "        [ 7.,  7.,  7.],\n",
            "        [ 8.,  8.,  8.],\n",
            "        [ 9.,  9.,  9.],\n",
            "        [10., 10., 10.]]) torch.Size([10, 3])\n"
          ]
        }
      ]
    },
    {
      "cell_type": "code",
      "source": [
        "# squeeze takes away an extra dimensions\n",
        "x_reshaped = x.reshape(1,10)\n",
        "print(f\"Previous tensor : {x_reshaped}\")\n",
        "print(f\"Previous shape: {x_reshaped.shape}\")\n",
        "# see the double [[ in the result ?\n",
        "# squeeze will remove it\n",
        "x_squeezed = x_reshaped.squeeze()\n",
        "print(f\"new tensor : {x_squeezed }\")\n",
        "print(f\"fnew shape: {x_squeezed .shape}\")\n",
        "\n",
        "\n",
        "\n"
      ],
      "metadata": {
        "colab": {
          "base_uri": "https://localhost:8080/"
        },
        "id": "79343rhpEcat",
        "outputId": "e3af7fdc-f138-437d-b9b2-429ff257f352"
      },
      "execution_count": 34,
      "outputs": [
        {
          "output_type": "stream",
          "name": "stdout",
          "text": [
            "Previous tensor : tensor([[ 1.,  2.,  3.,  4.,  5.,  6.,  7.,  8.,  9., 10.]])\n",
            "Previous shape: torch.Size([1, 10])\n",
            "Previous tensor : tensor([ 1.,  2.,  3.,  4.,  5.,  6.,  7.,  8.,  9., 10.])\n",
            "Previous shape: torch.Size([10])\n"
          ]
        }
      ]
    },
    {
      "cell_type": "code",
      "source": [
        "# unsqueeze adds a single dimension to a target tensor at a specific dim ( dimension)\n",
        "print(f\"Previous target {x_squeezed}\")\n",
        "print(f\"Previous shape {x_squeezed.shape}\")\n",
        "\n",
        "x_unsqueezed = x_squeezed.unsqueeze(dim=0)\n",
        "\n",
        "print(f\"new tensor : {x_unsqueezed }\")\n",
        "print(f\"fnew shape: {x_unsqueezed .shape}\")"
      ],
      "metadata": {
        "colab": {
          "base_uri": "https://localhost:8080/"
        },
        "id": "iDN5sVC6HMwB",
        "outputId": "f71ccabc-5bc4-41c6-94ff-6ff40204621f"
      },
      "execution_count": 38,
      "outputs": [
        {
          "output_type": "stream",
          "name": "stdout",
          "text": [
            "Previous target tensor([ 1.,  2.,  3.,  4.,  5.,  6.,  7.,  8.,  9., 10.])\n",
            "Previous shape torch.Size([10])\n",
            "new tensor : tensor([[ 1.,  2.,  3.,  4.,  5.,  6.,  7.,  8.,  9., 10.]])\n",
            "fnew shape: torch.Size([1, 10])\n"
          ]
        }
      ]
    }
  ]
}