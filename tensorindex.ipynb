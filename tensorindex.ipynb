{
  "nbformat": 4,
  "nbformat_minor": 0,
  "metadata": {
    "colab": {
      "provenance": [],
      "authorship_tag": "ABX9TyMS2Fn8tGi9vUfJwYKf/XWH",
      "include_colab_link": true
    },
    "kernelspec": {
      "name": "python3",
      "display_name": "Python 3"
    },
    "language_info": {
      "name": "python"
    }
  },
  "cells": [
    {
      "cell_type": "markdown",
      "metadata": {
        "id": "view-in-github",
        "colab_type": "text"
      },
      "source": [
        "<a href=\"https://colab.research.google.com/github/jevylux/pytorchtraining/blob/main/tensorindex.ipynb\" target=\"_parent\"><img src=\"https://colab.research.google.com/assets/colab-badge.svg\" alt=\"Open In Colab\"/></a>"
      ]
    },
    {
      "cell_type": "code",
      "execution_count": 1,
      "metadata": {
        "colab": {
          "base_uri": "https://localhost:8080/"
        },
        "id": "_OLSfz05NfqH",
        "outputId": "2c1377cd-3b61-41fd-f54a-1624db980fd7"
      },
      "outputs": [
        {
          "output_type": "stream",
          "name": "stdout",
          "text": [
            "2.1.0+cu118\n"
          ]
        }
      ],
      "source": [
        "import torch\n",
        "import pandas as pd\n",
        "import numpy as np\n",
        "import matplotlib.pyplot as plt\n",
        "print(torch.__version__)\n"
      ]
    },
    {
      "cell_type": "code",
      "source": [
        "x = torch.arange(1,10).reshape(1,3,3)\n",
        "print(x, x.shape)"
      ],
      "metadata": {
        "colab": {
          "base_uri": "https://localhost:8080/"
        },
        "id": "vuLQAGSPNvLS",
        "outputId": "3deff950-b5b2-44fb-8481-0ef10e8cca7a"
      },
      "execution_count": 7,
      "outputs": [
        {
          "output_type": "stream",
          "name": "stdout",
          "text": [
            "tensor([[[1, 2, 3],\n",
            "         [4, 5, 6],\n",
            "         [7, 8, 9]]]) torch.Size([1, 3, 3])\n"
          ]
        }
      ]
    },
    {
      "cell_type": "code",
      "source": [
        "#let's index on our new tensor\n",
        "print(x[0])\n",
        "# lets index on the middle bracket (dim = 1)\n",
        "print(x[0][0])\n",
        "# let's index on dim2\n",
        "print(x[0][0][0])\n",
        "print(x[0][0][2])"
      ],
      "metadata": {
        "colab": {
          "base_uri": "https://localhost:8080/"
        },
        "id": "2E6gamjoORVL",
        "outputId": "cd6348a8-dffb-48e5-8e5d-4669aebd834c"
      },
      "execution_count": 13,
      "outputs": [
        {
          "output_type": "stream",
          "name": "stdout",
          "text": [
            "tensor([[1, 2, 3],\n",
            "        [4, 5, 6],\n",
            "        [7, 8, 9]])\n",
            "tensor([1, 2, 3])\n",
            "tensor(1)\n",
            "tensor(3)\n"
          ]
        }
      ]
    },
    {
      "cell_type": "code",
      "source": [
        "# you can also use \":\" to select \"all \"of a target dimension\n",
        "print(x[:,0])\n",
        "# get all values of 0th and 1st dimensions but only index 1 of 2nd dimension\n",
        "print(x[:, :, 1])\n",
        "# get all values of the 0th dimension but only the 1 index value of first and 2nd dimension\n",
        "print(x[:,1,1])\n",
        "# get all values of the 0th dimension but only the 2 and 3 index value of first and 2nd dimension\n",
        "print(x[:,1:,1:,])\n",
        "print(x[:,1:,:,])\n",
        "print(x[:,:,1:,])"
      ],
      "metadata": {
        "colab": {
          "base_uri": "https://localhost:8080/"
        },
        "id": "Gt2ob7okPGZe",
        "outputId": "bcffb0df-667c-4a50-cbb6-5e1fe561b3e5"
      },
      "execution_count": 18,
      "outputs": [
        {
          "output_type": "stream",
          "name": "stdout",
          "text": [
            "tensor([[1, 2, 3]])\n",
            "tensor([[2, 5, 8]])\n",
            "tensor([5])\n",
            "tensor([[[5, 6],\n",
            "         [8, 9]]])\n",
            "tensor([[[4, 5, 6],\n",
            "         [7, 8, 9]]])\n",
            "tensor([[[2, 3],\n",
            "         [5, 6],\n",
            "         [8, 9]]])\n"
          ]
        }
      ]
    },
    {
      "cell_type": "code",
      "source": [
        "# index on x to return 9\n",
        "print(x[:,2,2])\n",
        "\n",
        "# index on x to return 3,6,9\n",
        "print(x[:,:,2])"
      ],
      "metadata": {
        "colab": {
          "base_uri": "https://localhost:8080/"
        },
        "id": "XHQ5B0LnQ5oh",
        "outputId": "bc2840ad-8bfe-44c6-d7d8-98903d3cedfa"
      },
      "execution_count": 21,
      "outputs": [
        {
          "output_type": "stream",
          "name": "stdout",
          "text": [
            "tensor([9])\n",
            "tensor([[3, 6, 9]])\n"
          ]
        }
      ]
    },
    {
      "cell_type": "code",
      "source": [
        ""
      ],
      "metadata": {
        "id": "x8T_lZaWRw05"
      },
      "execution_count": null,
      "outputs": []
    }
  ]
}